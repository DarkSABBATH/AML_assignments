{
  "nbformat": 4,
  "nbformat_minor": 0,
  "metadata": {
    "colab": {
      "provenance": [],
      "authorship_tag": "ABX9TyMMMiJaMsfIsHmb2BLgMCnw",
      "include_colab_link": true
    },
    "kernelspec": {
      "name": "python3",
      "display_name": "Python 3"
    },
    "language_info": {
      "name": "python"
    }
  },
  "cells": [
    {
      "cell_type": "markdown",
      "metadata": {
        "id": "view-in-github",
        "colab_type": "text"
      },
      "source": [
        "<a href=\"https://colab.research.google.com/github/DarkSABBATH/AML_daily_assignments/blob/main/day_2_assignment.ipynb\" target=\"_parent\"><img src=\"https://colab.research.google.com/assets/colab-badge.svg\" alt=\"Open In Colab\"/></a>"
      ]
    },
    {
      "cell_type": "code",
      "execution_count": 1,
      "metadata": {
        "colab": {
          "base_uri": "https://localhost:8080/"
        },
        "id": "YAvxfngBzEhx",
        "outputId": "8ca85677-ad8f-4d96-84de-d69136ac289c"
      },
      "outputs": [
        {
          "output_type": "stream",
          "name": "stdout",
          "text": [
            "Matrix multiplication result:\n",
            " [[14 30]\n",
            " [38 86]]\n"
          ]
        }
      ],
      "source": [
        "import numpy as np\n",
        "def matrix_multiply(A, B):\n",
        "    return np.matmul(A, B)\n",
        "A = np.array([[1, 3],\n",
        "              [5, 7]])\n",
        "B = np.array([[2, 6],\n",
        "              [4, 8]])\n",
        "result = matrix_multiply(A, B)\n",
        "print(\"Matrix multiplication result:\\n\", result)\n"
      ]
    },
    {
      "cell_type": "code",
      "source": [
        "import numpy as np\n",
        "\n",
        "# Sample dataset\n",
        "data = np.array([10, 15, 20, 25, 30])\n",
        "\n",
        "# Min-Max Scaling: rescales data to [0,1]\n",
        "def min_max_scaling(x):\n",
        "    return (x - np.min(x)) / (np.max(x) - np.min(x))\n",
        "\n",
        "# Standardization: zero mean and unit variance\n",
        "def standardize(x):\n",
        "    return (x - np.mean(x)) / np.std(x)\n",
        "\n",
        "scaled_data = min_max_scaling(data)\n",
        "standardized_data = standardize(data)\n",
        "\n",
        "print(\"Original data:\", data)\n",
        "print(\"Min-Max Scaled data:\", scaled_data)\n",
        "print(\"Standardized data:\", standardized_data)\n"
      ],
      "metadata": {
        "colab": {
          "base_uri": "https://localhost:8080/"
        },
        "id": "5jX2Rie-zoXp",
        "outputId": "6fa82df4-f853-4757-e917-1aab7bc2b871"
      },
      "execution_count": 2,
      "outputs": [
        {
          "output_type": "stream",
          "name": "stdout",
          "text": [
            "Original data: [10 15 20 25 30]\n",
            "Min-Max Scaled data: [0.   0.25 0.5  0.75 1.  ]\n",
            "Standardized data: [-1.41421356 -0.70710678  0.          0.70710678  1.41421356]\n"
          ]
        }
      ]
    }
  ]
}